{
 "cells": [
  {
   "cell_type": "code",
   "execution_count": 1,
   "metadata": {},
   "outputs": [
    {
     "name": "stderr",
     "output_type": "stream",
     "text": [
      "C:\\Users\\youss\\AppData\\Local\\conda\\conda\\envs\\deeplearning\\lib\\site-packages\\sklearn\\ensemble\\weight_boosting.py:29: DeprecationWarning: numpy.core.umath_tests is an internal NumPy module and should not be imported. It will be removed in a future NumPy release.\n",
      "  from numpy.core.umath_tests import inner1d\n"
     ]
    }
   ],
   "source": [
    "from __future__ import print_function\n",
    "import numpy as np\n",
    "import pandas as pd\n",
    "np.random.seed(1)\n",
    "import sys\n",
    "import sklearn\n",
    "import sklearn.ensemble\n",
    "%load_ext autoreload\n",
    "%autoreload 2\n",
    "from anchor import utils\n",
    "import lime\n",
    "import lime.lime_tabular\n",
    "from int_met import *"
   ]
  },
  {
   "cell_type": "code",
   "execution_count": 19,
   "metadata": {
    "collapsed": true
   },
   "outputs": [],
   "source": [
    "dataset_folder = 'Datasets/'\n",
    "dataset = utils.load_dataset('mortality',discretize=False, balance=True, dataset_folder=dataset_folder)"
   ]
  },
  {
   "cell_type": "code",
   "execution_count": 15,
   "metadata": {},
   "outputs": [
    {
     "name": "stdout",
     "output_type": "stream",
     "text": [
      "(436,)\n",
      "(370,)\n"
     ]
    }
   ],
   "source": [
    "dataset.train[:,12] = 1\n",
    "msk = np.where(dataset.labels_train == 1)[0]\n",
    "msk = msk[:int(msk.shape[0]*0.85)]\n",
    "dataset.train[msk,12] = 0\n",
    "\n",
    "dataset.test[:,12] = 1\n",
    "msk = np.where(dataset.labels_test == 1)[0]\n",
    "print(msk.shape)\n",
    "mskk = msk[:int(msk.shape[0]*0.85)]\n",
    "print(mskk.shape)\n",
    "dataset.test[mskk,12] = 0"
   ]
  },
  {
   "cell_type": "code",
   "execution_count": 4,
   "metadata": {
    "collapsed": true
   },
   "outputs": [],
   "source": [
    "explainer = lime.lime_tabular.LimeTabularExplainer(dataset.train, feature_names=dataset.feature_names, class_names=dataset.class_target,discretize_continuous=False,)"
   ]
  },
  {
   "cell_type": "code",
   "execution_count": 20,
   "metadata": {},
   "outputs": [
    {
     "name": "stdout",
     "output_type": "stream",
     "text": [
      "Train 1.0\n",
      "Test 0.8504784688995215\n"
     ]
    }
   ],
   "source": [
    "c = sklearn.ensemble.RandomForestClassifier(n_estimators=70, n_jobs=5, random_state=1)\n",
    "c.fit(dataset.train, dataset.labels_train)\n",
    "predict_fn = lambda x: c.predict(x)\n",
    "print('Train', sklearn.metrics.accuracy_score(dataset.labels_train, predict_fn(dataset.train)))\n",
    "print('Test', sklearn.metrics.accuracy_score(dataset.labels_test, predict_fn(dataset.test)))"
   ]
  },
  {
   "cell_type": "code",
   "execution_count": 18,
   "metadata": {},
   "outputs": [
    {
     "name": "stdout",
     "output_type": "stream",
     "text": [
      "Train 0.9998504784688995\n",
      "Test 0.937799043062201\n"
     ]
    }
   ],
   "source": [
    "c = sklearn.ensemble.RandomForestClassifier(n_estimators=70, n_jobs=5, random_state=1)\n",
    "c.fit(dataset.train, dataset.labels_train)\n",
    "predict_fn = lambda x: c.predict(x)\n",
    "print('Train', sklearn.metrics.accuracy_score(dataset.labels_train, predict_fn(dataset.train)))\n",
    "print('Test', sklearn.metrics.accuracy_score(dataset.labels_test, predict_fn(dataset.test)))"
   ]
  },
  {
   "cell_type": "code",
   "execution_count": 115,
   "metadata": {
    "collapsed": true
   },
   "outputs": [],
   "source": [
    "preds =  predict_fn(dataset.test)"
   ]
  },
  {
   "cell_type": "code",
   "execution_count": null,
   "metadata": {
    "collapsed": true
   },
   "outputs": [],
   "source": [
    "import pickle\n",
    "pickling_on = open(\"rfmort.pickle\",\"rb\")\n",
    "c = pickle.load(pickling_on)\n",
    "pickling_on.close()"
   ]
  },
  {
   "cell_type": "code",
   "execution_count": 5,
   "metadata": {
    "collapsed": true
   },
   "outputs": [],
   "source": [
    "import pickle\n",
    "pickling_on = open(\"rfmort.pickle\",\"wb\")\n",
    "pickle.dump(c, pickling_on)\n",
    "pickling_on.close()"
   ]
  },
  {
   "cell_type": "code",
   "execution_count": 116,
   "metadata": {
    "collapsed": true
   },
   "outputs": [],
   "source": [
    "exp_fn = lambda i: explainer.explain_instance(dataset.test[i], c.predict_proba, num_features=5, top_labels=1)\n",
    "def exp_fn_blk(xtest, exp_fn):\n",
    "    exp1 = []\n",
    "    for i in range(len(xtest)):\n",
    "        exp = exp_fn(i)\n",
    "        exp1.append(exp.as_map()[exp.available_labels()[0]])\n",
    "    return np.array(exp1)\n",
    "exp_fn_wrap = lambda x: np.array(exp_fn_blk(x, exp_fn))"
   ]
  },
  {
   "cell_type": "code",
   "execution_count": 117,
   "metadata": {
    "collapsed": true
   },
   "outputs": [],
   "source": [
    "exp1 = exp_fn_blk(dataset.test, exp_fn)"
   ]
  },
  {
   "cell_type": "code",
   "execution_count": 118,
   "metadata": {
    "collapsed": true
   },
   "outputs": [],
   "source": [
    "import copy\n",
    "test_ori = []\n",
    "enc_feats = []\n",
    "sz = dataset.test.shape\n",
    "for i in range(sz[0]):\n",
    "    temp = list(copy.deepcopy(dataset.test[i]))\n",
    "    for j in range(sz[0]):\n",
    "        if j in dataset.categorical_features:\n",
    "            temp[j] = dataset.categorical_names[j][int(temp[j])].replace(',','')\n",
    "    test_ori.append(temp)\n",
    "\n",
    "ori_data = pd.DataFrame(test_ori, columns=dataset.feature_names)\n",
    "\n",
    "feats = copy.deepcopy(dataset.feature_names)"
   ]
  },
  {
   "cell_type": "code",
   "execution_count": 119,
   "metadata": {
    "collapsed": true
   },
   "outputs": [],
   "source": [
    "num_feats = len(dataset.feature_names)\n",
    "sz = exp1.shape\n",
    "imp = np.zeros(num_feats)\n",
    "for i in range(sz[0]):\n",
    "    for j in range(sz[1]):\n",
    "        imp[int(exp1[i][j][0])] = imp[int(exp1[i][j][0])] + sz[1] - j\n",
    "    "
   ]
  },
  {
   "cell_type": "code",
   "execution_count": 120,
   "metadata": {
    "collapsed": true
   },
   "outputs": [],
   "source": [
    "order = np.argsort(-imp)"
   ]
  },
  {
   "cell_type": "code",
   "execution_count": 121,
   "metadata": {
    "collapsed": true
   },
   "outputs": [],
   "source": [
    "a = list(np.array(feats)[order])"
   ]
  },
  {
   "cell_type": "code",
   "execution_count": 122,
   "metadata": {},
   "outputs": [
    {
     "data": {
      "text/plain": [
       "['smoke',\n",
       " 'age',\n",
       " 'mets_achieved',\n",
       " 'percent_hr_achieved',\n",
       " 'sex',\n",
       " 'resting_systolic',\n",
       " 'famhx',\n",
       " 'reason',\n",
       " 'htn',\n",
       " 'afib2',\n",
       " 'dm',\n",
       " 'diuretic',\n",
       " 'racewb',\n",
       " 'htnmed']"
      ]
     },
     "execution_count": 122,
     "metadata": {},
     "output_type": "execute_result"
    }
   ],
   "source": [
    "a"
   ]
  },
  {
   "cell_type": "code",
   "execution_count": 123,
   "metadata": {
    "collapsed": true
   },
   "outputs": [],
   "source": [
    "view1 = ori_data.reindex(columns=a)\n",
    "viewno = copy.deepcopy(ori_data)"
   ]
  },
  {
   "cell_type": "code",
   "execution_count": null,
   "metadata": {
    "collapsed": true
   },
   "outputs": [],
   "source": [
    "view1"
   ]
  },
  {
   "cell_type": "code",
   "execution_count": 163,
   "metadata": {
    "collapsed": true
   },
   "outputs": [],
   "source": [
    "#view1.sort_values(by='age', inplace=True)"
   ]
  },
  {
   "cell_type": "code",
   "execution_count": 125,
   "metadata": {
    "collapsed": true
   },
   "outputs": [],
   "source": [
    "view1.insert(loc=0,column='dead',value=dataset.labels_test)\n",
    "viewno.insert(loc=0,column='dead',value=dataset.labels_test)\n",
    "view1.insert(loc=1,column='prediction',value=preds)\n",
    "viewno.insert(loc=1,column='prediction',value=preds)"
   ]
  },
  {
   "cell_type": "code",
   "execution_count": 126,
   "metadata": {
    "collapsed": true
   },
   "outputs": [],
   "source": [
    "yesmap={0:'No', 1:'Yes'}\n",
    "yes_no = lambda x: yesmap[x] "
   ]
  },
  {
   "cell_type": "code",
   "execution_count": 127,
   "metadata": {
    "collapsed": true
   },
   "outputs": [],
   "source": [
    "view1['dead']=view1['dead'].apply(yes_no)\n",
    "viewno['dead']=viewno['dead'].apply(yes_no)\n",
    "view1['prediction']=view1['prediction'].apply(yes_no)\n",
    "viewno['prediction']=viewno['prediction'].apply(yes_no)"
   ]
  },
  {
   "cell_type": "code",
   "execution_count": 128,
   "metadata": {
    "collapsed": true
   },
   "outputs": [],
   "source": [
    "view1.to_csv('bmortlime.csv',index=False)\n",
    "viewno.to_csv('bmortno.csv',index=False)"
   ]
  }
 ],
 "metadata": {
  "kernelspec": {
   "display_name": "Python 3",
   "language": "python",
   "name": "python3"
  },
  "language_info": {
   "codemirror_mode": {
    "name": "ipython",
    "version": 3
   },
   "file_extension": ".py",
   "mimetype": "text/x-python",
   "name": "python",
   "nbconvert_exporter": "python",
   "pygments_lexer": "ipython3",
   "version": "3.6.6"
  }
 },
 "nbformat": 4,
 "nbformat_minor": 2
}
