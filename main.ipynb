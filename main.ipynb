{
 "cells": [
  {
   "cell_type": "code",
   "execution_count": 1,
   "metadata": {},
   "outputs": [],
   "source": [
    "from pycocotools.coco import COCO\n",
    "import numpy as np\n",
    "import matplotlib.pyplot as plt\n",
    "import pickle"
   ]
  },
  {
   "cell_type": "code",
   "execution_count": 2,
   "metadata": {},
   "outputs": [
    {
     "name": "stdout",
     "output_type": "stream",
     "text": [
      "loading annotations into memory...\n",
      "Done (t=1.75s)\n",
      "creating index...\n",
      "index created!\n"
     ]
    }
   ],
   "source": [
    "dataType='val2017'\n",
    "annFile=f'dataset/annotations/instances_{dataType}.json'\n",
    "coco=COCO(annFile)"
   ]
  },
  {
   "cell_type": "code",
   "execution_count": 3,
   "metadata": {},
   "outputs": [],
   "source": [
    "catNms = ['airplane', 'cat', 'dog']\n",
    "catIds = coco.getCatIds(catNms=catNms)\n",
    "cat_dict = dict(zip(catIds,catNms))"
   ]
  },
  {
   "cell_type": "code",
   "execution_count": 4,
   "metadata": {},
   "outputs": [
    {
     "name": "stdout",
     "output_type": "stream",
     "text": [
      "airplane 97\n",
      "cat 184\n",
      "dog 177\n",
      "\n",
      "total = 3\n",
      "total no. of imgs = 458\n"
     ]
    }
   ],
   "source": [
    "cat_ids = {}\n",
    "x_id = []\n",
    "Y = []\n",
    "total = 0\n",
    "for cat in catIds:\n",
    "  cat_ids[cat_dict[cat]] = coco.getImgIds(catIds=cat)\n",
    "  for img_id in cat_ids[cat_dict[cat]]:\n",
    "        x_id.append(img_id)\n",
    "        Y.append(cat_dict[cat])\n",
    "  print(cat_dict[cat], len(cat_ids[cat_dict[cat]]))\n",
    "  total += len(cat_ids[cat_dict[cat]])\n",
    "print(f'\\ntotal = {len(catIds)}\\ntotal no. of imgs = {total}')"
   ]
  },
  {
   "cell_type": "code",
   "execution_count": 5,
   "metadata": {},
   "outputs": [],
   "source": [
    "from skimage.transform import resize as imresize\n",
    "import skimage.io as io\n",
    "import os\n",
    "\n",
    "def load_images(img_ids, img_dir, img_size, preprocessor):\n",
    "    x = []\n",
    "    for img_id in img_ids:\n",
    "        img_file_name = coco.loadImgs(img_id)[0]['file_name']\n",
    "        img_complete_path = os.path.join(img_dir,img_file_name)\n",
    "        img = io.imread(img_complete_path)\n",
    "        img = imresize(img, (img_size,img_size,3), mode='reflect')\n",
    "#         img = preprocessor(img)\n",
    "        x.append(img)\n",
    "    return x"
   ]
  },
  {
   "cell_type": "code",
   "execution_count": 8,
   "metadata": {},
   "outputs": [],
   "source": [
    "import tensorflow.keras as keras\n",
    "from tensorflow.keras.applications import inception_v3\n",
    "from tensorflow.keras.models import Model\n",
    "from tensorflow.keras.models import load_model\n",
    "\n",
    "# from tensorflow.keras.applications.imagenet_utils import decode_predictions\n",
    "#\n",
    "# img_dir = 'dataset/val2017/'\n",
    "# img_size = 299\n",
    "# preprocessor = inception_v3.preprocess_input\n",
    "# X = load_images(x_id, img_dir, img_size, preprocessor)\n",
    "# X = np.array(X)\n",
    "# print(X.shape)"
   ]
  },
  {
   "cell_type": "code",
   "execution_count": null,
   "metadata": {},
   "outputs": [],
   "source": [
    "# with open('images.pkl', 'wb') as f:\n",
    "#     pickle.dump(X,f)"
   ]
  },
  {
   "cell_type": "code",
   "execution_count": 9,
   "metadata": {},
   "outputs": [],
   "source": [
    "with open('images.pkl', 'rb') as f:\n",
    "    X = pickle.load(f)"
   ]
  },
  {
   "cell_type": "code",
   "execution_count": 78,
   "metadata": {},
   "outputs": [],
   "source": [
    "img1 = keras.layers.Input(shape=(299,299,3))\n",
    "img2 = keras.layers.Input(shape=(299,299,3))\n",
    "merge_layer = keras.layers.Lambda(lambda img1: (base_model(img1[0]) - base_model(img1[1])) ** 2)([img1, img2])"
   ]
  },
  {
   "cell_type": "code",
   "execution_count": 87,
   "metadata": {},
   "outputs": [],
   "source": [
    "### loading the models\n",
    "inception_model = inception_v3.InceptionV3(weights=\"imagenet\", include_top=True)\n",
    "base_model = Model(inception_model.input, inception_model.get_layer(\"avg_pool\").output)\n",
    "del inception_model\n",
    "\n",
    "### transition\n",
    "img1 = keras.layers.Input(shape=(299,299,3))\n",
    "img2 = keras.layers.Input(shape=(299,299,3))\n",
    "merge_layer = keras.layers.Lambda(lambda img: (base_model(img[0]) - base_model(img[1])) ** 2)([img1, img2])\n",
    "# vec1 = base_model(img1)\n",
    "# vec2 = base_model(img2)\n",
    "# merge_layer = keras.layers.Lambda(lambda vec: (vec[0] - vec[1]) ** 2)([vec1, vec2])\n",
    "\n",
    "full_model = keras.Model([img1, img2], similarity_model(merge_layer))"
   ]
  },
  {
   "cell_type": "code",
   "execution_count": 89,
   "metadata": {},
   "outputs": [],
   "source": [
    "vec1 = keras.layers.Input(shape=(2048,))\n",
    "vec2 = keras.layers.Input(shape=(2048,))\n",
    "merge_layer_vec = keras.layers.Lambda(lambda vec: (vec[0] - vec[1]) ** 2)([vec1, vec2])\n",
    "\n",
    "vec_similarity_model = keras.Model([vec1,vec2], similarity_model(merge_layer_vec))"
   ]
  },
  {
   "cell_type": "code",
   "execution_count": null,
   "metadata": {},
   "outputs": [],
   "source": [
    "vec_similarity_model.summary()"
   ]
  },
  {
   "cell_type": "code",
   "execution_count": 83,
   "metadata": {
    "collapsed": true
   },
   "outputs": [
    {
     "name": "stdout",
     "output_type": "stream",
     "text": [
      "__________________________________________________________________________________________________\n",
      "Layer (type)                    Output Shape         Param #     Connected to                     \n",
      "==================================================================================================\n",
      "input_31 (InputLayer)           (None, 299, 299, 3)  0                                            \n",
      "__________________________________________________________________________________________________\n",
      "input_32 (InputLayer)           (None, 299, 299, 3)  0                                            \n",
      "__________________________________________________________________________________________________\n",
      "model_10 (Model)                (None, 2048)         21802784    input_31[0][0]                   \n",
      "                                                                 input_32[0][0]                   \n",
      "__________________________________________________________________________________________________\n",
      "lambda_9 (Lambda)               (None, 2048)         0           model_10[1][0]                   \n",
      "                                                                 model_10[2][0]                   \n",
      "__________________________________________________________________________________________________\n",
      "model (Model)                   (None, 1)            2368833     lambda_9[0][0]                   \n",
      "==================================================================================================\n",
      "Total params: 24,171,617\n",
      "Trainable params: 24,137,185\n",
      "Non-trainable params: 34,432\n",
      "__________________________________________________________________________________________________\n"
     ]
    }
   ],
   "source": [
    "full_model.summary()"
   ]
  },
  {
   "cell_type": "code",
   "execution_count": 88,
   "metadata": {
    "collapsed": true
   },
   "outputs": [
    {
     "name": "stdout",
     "output_type": "stream",
     "text": [
      "__________________________________________________________________________________________________\n",
      "Layer (type)                    Output Shape         Param #     Connected to                     \n",
      "==================================================================================================\n",
      "input_34 (InputLayer)           (None, 299, 299, 3)  0                                            \n",
      "__________________________________________________________________________________________________\n",
      "input_35 (InputLayer)           (None, 299, 299, 3)  0                                            \n",
      "__________________________________________________________________________________________________\n",
      "lambda_10 (Lambda)              (None, 2048)         0           input_34[0][0]                   \n",
      "                                                                 input_35[0][0]                   \n",
      "__________________________________________________________________________________________________\n",
      "model (Model)                   (None, 1)            2368833     lambda_10[0][0]                  \n",
      "==================================================================================================\n",
      "Total params: 2,368,833\n",
      "Trainable params: 2,368,833\n",
      "Non-trainable params: 0\n",
      "__________________________________________________________________________________________________\n"
     ]
    }
   ],
   "source": [
    "full_model.summary()"
   ]
  },
  {
   "cell_type": "code",
   "execution_count": 35,
   "metadata": {},
   "outputs": [],
   "source": [
    "# similarity_model_out = similarity_model(base_model.layers[-1].output)\n",
    "# full_model2 = keras.Model(base_model.input, similarity_model_out)"
   ]
  },
  {
   "cell_type": "code",
   "execution_count": 41,
   "metadata": {},
   "outputs": [],
   "source": [
    "import pickle\n",
    "with open('exp1.pkl', 'rb') as f:\n",
    "    exps1 = pickle.load(f)\n",
    "with open('exp2.pkl', 'rb') as f:\n",
    "    exps2 = pickle.load(f)"
   ]
  },
  {
   "cell_type": "code",
   "execution_count": 43,
   "metadata": {},
   "outputs": [],
   "source": [
    "no_superpixels = 5\n",
    "def get_imgs_from_exps(exps):\n",
    "    return np.array([exp.get_image_and_mask(exp.top_labels[0], positive_only=True,\n",
    "                                            num_features=no_superpixels, hide_rest=True)[0]\n",
    "                     for exp in exps])"
   ]
  },
  {
   "cell_type": "code",
   "execution_count": 44,
   "metadata": {},
   "outputs": [
    {
     "name": "stdout",
     "output_type": "stream",
     "text": [
      "CPU times: user 1h 3min 20s, sys: 12min 25s, total: 1h 15min 46s\n",
      "Wall time: 3min 47s\n",
      "CPU times: user 1h 3min 34s, sys: 13min 8s, total: 1h 16min 43s\n",
      "Wall time: 3min 57s\n"
     ]
    }
   ],
   "source": [
    "%time imgs1 = get_imgs_from_exps(exps1)\n",
    "%time imgs2 = get_imgs_from_exps(exps2)"
   ]
  },
  {
   "cell_type": "code",
   "execution_count": 45,
   "metadata": {},
   "outputs": [],
   "source": [
    "from metrics import *"
   ]
  },
  {
   "cell_type": "code",
   "execution_count": 46,
   "metadata": {},
   "outputs": [
    {
     "name": "stdout",
     "output_type": "stream",
     "text": [
      "true:  103 wrong:  355 total:  458\n"
     ]
    },
    {
     "data": {
      "text/plain": [
       "(77.51091703056768, 103, 458)"
      ]
     },
     "execution_count": 46,
     "metadata": {},
     "output_type": "execute_result"
    }
   ],
   "source": [
    "calc_identity(imgs1,imgs2)"
   ]
  },
  {
   "cell_type": "code",
   "execution_count": 47,
   "metadata": {},
   "outputs": [
    {
     "name": "stdout",
     "output_type": "stream",
     "text": [
      "true:  209304 wrong:  2 total:  209306\n"
     ]
    },
    {
     "data": {
      "text/plain": [
       "(2, 458, 209306, 0.0009555387805414082)"
      ]
     },
     "execution_count": 47,
     "metadata": {},
     "output_type": "execute_result"
    }
   ],
   "source": [
    "calc_separability(imgs1)"
   ]
  },
  {
   "cell_type": "code",
   "execution_count": 52,
   "metadata": {},
   "outputs": [],
   "source": [
    "## vectorizer to improve clustering performance\n",
    "vectors = base_model.predict(X)\n",
    "with open('vectorized_img', 'wb') as f:\n",
    "    pickle.dump(vectors,f)"
   ]
  },
  {
   "cell_type": "code",
   "execution_count": 85,
   "metadata": {},
   "outputs": [
    {
     "data": {
      "text/plain": [
       "(458, 2048)"
      ]
     },
     "execution_count": 85,
     "metadata": {},
     "output_type": "execute_result"
    }
   ],
   "source": [
    "vectors.shape"
   ]
  },
  {
   "cell_type": "code",
   "execution_count": 113,
   "metadata": {},
   "outputs": [],
   "source": [
    "### making the distance matrix\n",
    "eps = 1e-6\n",
    "distance_matrix = np.zeros((vectors.shape[0], vectors.shape[0]))\n",
    "for i, vec1 in enumerate(vectors):\n",
    "    for j, vec2 in enumerate(vectors):\n",
    "        distance_matrix[i][j] = 1 /( vec_similarity_model.predict([vec1[None,:],vec2[None,:]]) + eps)if i != j else 1\n",
    "    if i % 50 == 0:\n",
    "        print(f\"done with {i} instances\")"
   ]
  },
  {
   "cell_type": "code",
   "execution_count": 141,
   "metadata": {},
   "outputs": [
    {
     "data": {
      "text/plain": [
       "AgglomerativeClustering(affinity='precomputed', compute_full_tree='auto',\n",
       "            connectivity=None, linkage='complete', memory=None,\n",
       "            n_clusters=20, pooling_func='deprecated')"
      ]
     },
     "execution_count": 141,
     "metadata": {},
     "output_type": "execute_result"
    }
   ],
   "source": [
    "from sklearn.cluster import AgglomerativeClustering\n",
    "cluster_model = AgglomerativeClustering(n_clusters=20, affinity='precomputed', linkage='complete')\n",
    "cluster_model.fit(distance_matrix)"
   ]
  },
  {
   "cell_type": "code",
   "execution_count": 142,
   "metadata": {},
   "outputs": [
    {
     "name": "stdout",
     "output_type": "stream",
     "text": [
      "cluster 0 has 46 instances\n",
      "cluster 1 has 6 instances\n",
      "cluster 2 has 39 instances\n",
      "cluster 3 has 48 instances\n",
      "cluster 4 has 17 instances\n",
      "cluster 5 has 11 instances\n",
      "cluster 6 has 4 instances\n",
      "cluster 7 has 52 instances\n",
      "cluster 8 has 6 instances\n",
      "cluster 9 has 8 instances\n",
      "cluster 10 has 1 instances\n",
      "cluster 11 has 13 instances\n",
      "cluster 12 has 42 instances\n",
      "cluster 13 has 33 instances\n",
      "cluster 14 has 42 instances\n",
      "cluster 15 has 6 instances\n",
      "cluster 16 has 50 instances\n",
      "cluster 17 has 10 instances\n",
      "cluster 18 has 22 instances\n",
      "cluster 19 has 2 instances\n"
     ]
    }
   ],
   "source": [
    "clusters = np.unique(cluster_model.labels_)\n",
    "cluster = {}\n",
    "for i in clusters:\n",
    "    cluster[i] = np.where(cluster_model.labels_ == i)[0]\n",
    "    print(f\"cluster {i} has {len(cluster[i])} instances\")\n",
    "    \n",
    "# np.array(Y)[cluster[16]]"
   ]
  },
  {
   "cell_type": "code",
   "execution_count": 174,
   "metadata": {},
   "outputs": [
    {
     "data": {
      "text/plain": [
       "(458, 299, 299, 3)"
      ]
     },
     "execution_count": 174,
     "metadata": {},
     "output_type": "execute_result"
    }
   ],
   "source": [
    "imgs1.shape"
   ]
  },
  {
   "cell_type": "code",
   "execution_count": 178,
   "metadata": {},
   "outputs": [
    {
     "name": "stdout",
     "output_type": "stream",
     "text": [
      "cluster 0 done\n",
      "________________________________________\n",
      "cluster 1 done\n",
      "________________________________________\n",
      "cluster 2 done\n",
      "________________________________________\n",
      "cluster 3 done\n",
      "________________________________________\n",
      "cluster 4 done\n",
      "________________________________________\n",
      "cluster 5 done\n",
      "________________________________________\n",
      "cluster 6 done\n",
      "________________________________________\n",
      "cluster 7 done\n",
      "________________________________________\n",
      "cluster 8 done\n",
      "________________________________________\n",
      "cluster 9 done\n",
      "________________________________________\n",
      "cluster 11 done\n",
      "________________________________________\n",
      "cluster 12 done\n",
      "________________________________________\n",
      "cluster 13 done\n",
      "________________________________________\n",
      "cluster 14 done\n",
      "________________________________________\n",
      "cluster 15 done\n",
      "________________________________________\n",
      "cluster 16 done\n",
      "________________________________________\n",
      "cluster 17 done\n",
      "________________________________________\n",
      "cluster 18 done\n",
      "________________________________________\n",
      "cluster 19 done\n",
      "________________________________________\n"
     ]
    }
   ],
   "source": [
    "score = 0\n",
    "for cluster_id, imgs_id in cluster.items():\n",
    "    if len(imgs_id) < 2:\n",
    "        continue\n",
    "    cluster_imgs = imgs1[imgs_id]\n",
    "    for img1 in cluster_imgs:\n",
    "        for img2 in cluster_imgs:\n",
    "            score += full_model.predict([img1[None,:],img2[None,:]])\n",
    "        if i%5 == 0:\n",
    "            print(f\"done with {i} imgs\")\n",
    "    print(f\"cluster {cluster_id} done\\nscore = {score}\\n________________________________________\")\n",
    "score /= (458**2)"
   ]
  },
  {
   "cell_type": "code",
   "execution_count": 143,
   "metadata": {},
   "outputs": [],
   "source": [
    "# from sklearn.cluster import SpectralClustering\n",
    "# cluster_model = SpectralClustering(n_clusters=15, affinity='precomputed', n_init=1, assign_labels='discretize')\n",
    "# cluster_model.fit(distance_matrix)"
   ]
  },
  {
   "cell_type": "code",
   "execution_count": 179,
   "metadata": {},
   "outputs": [
    {
     "data": {
      "text/plain": [
       "array([[0.05729971]], dtype=float32)"
      ]
     },
     "execution_count": 179,
     "metadata": {},
     "output_type": "execute_result"
    }
   ],
   "source": [
    "score"
   ]
  },
  {
   "cell_type": "code",
   "execution_count": null,
   "metadata": {},
   "outputs": [],
   "source": []
  }
 ],
 "metadata": {
  "kernelspec": {
   "display_name": "Python 3",
   "language": "python",
   "name": "python3"
  },
  "language_info": {
   "codemirror_mode": {
    "name": "ipython",
    "version": 3
   },
   "file_extension": ".py",
   "mimetype": "text/x-python",
   "name": "python",
   "nbconvert_exporter": "python",
   "pygments_lexer": "ipython3",
   "version": "3.6.8"
  }
 },
 "nbformat": 4,
 "nbformat_minor": 2
}
