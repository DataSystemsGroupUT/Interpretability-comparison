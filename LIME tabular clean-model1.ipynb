{
 "cells": [
  {
   "cell_type": "code",
   "execution_count": 2,
   "metadata": {},
   "outputs": [
    {
     "name": "stderr",
     "output_type": "stream",
     "text": [
      "C:\\Users\\youss\\AppData\\Local\\conda\\conda\\envs\\deeplearning\\lib\\site-packages\\sklearn\\ensemble\\weight_boosting.py:29: DeprecationWarning: numpy.core.umath_tests is an internal NumPy module and should not be imported. It will be removed in a future NumPy release.\n",
      "  from numpy.core.umath_tests import inner1d\n"
     ]
    }
   ],
   "source": [
    "from __future__ import print_function\n",
    "import numpy as np\n",
    "import pandas as pd\n",
    "np.random.seed(1)\n",
    "import sys\n",
    "import sklearn\n",
    "import sklearn.ensemble\n",
    "%load_ext autoreload\n",
    "%autoreload 2\n",
    "from anchor import utils\n",
    "import lime\n",
    "import lime.lime_tabular\n",
    "from int_met import *"
   ]
  },
  {
   "cell_type": "code",
   "execution_count": 19,
   "metadata": {},
   "outputs": [],
   "source": [
    "dataset_folder = 'Datasets/'\n",
    "dataset = utils.load_dataset('mortality',discretize=False, balance=True, dataset_folder=dataset_folder)"
   ]
  },
  {
   "cell_type": "code",
   "execution_count": 21,
   "metadata": {},
   "outputs": [
    {
     "data": {
      "text/plain": [
       "(4180, 1, 14)"
      ]
     },
     "execution_count": 21,
     "metadata": {},
     "output_type": "execute_result"
    }
   ],
   "source": [
    "dataset.data[np.argwhere(dataset.labels==0)].shape"
   ]
  },
  {
   "cell_type": "code",
   "execution_count": 3,
   "metadata": {},
   "outputs": [],
   "source": [
    "explainer = lime.lime_tabular.LimeTabularExplainer(dataset.train, feature_names=dataset.feature_names, class_names=dataset.class_target,discretize_continuous=False,)"
   ]
  },
  {
   "cell_type": "code",
   "execution_count": 4,
   "metadata": {},
   "outputs": [
    {
     "name": "stdout",
     "output_type": "stream",
     "text": [
      "Train 1.0\n",
      "Test 0.8504784688995215\n"
     ]
    }
   ],
   "source": [
    "c = sklearn.ensemble.RandomForestClassifier(n_estimators=70, n_jobs=5, random_state=1)\n",
    "c.fit(dataset.train, dataset.labels_train)\n",
    "predict_fn = lambda x: c.predict(x)\n",
    "print('Train', sklearn.metrics.accuracy_score(dataset.labels_train, predict_fn(dataset.train)))\n",
    "print('Test', sklearn.metrics.accuracy_score(dataset.labels_test, predict_fn(dataset.test)))"
   ]
  },
  {
   "cell_type": "code",
   "execution_count": 5,
   "metadata": {},
   "outputs": [],
   "source": [
    "preds =  predict_fn(dataset.test)"
   ]
  },
  {
   "cell_type": "code",
   "execution_count": null,
   "metadata": {},
   "outputs": [],
   "source": [
    "import pickle\n",
    "pickling_on = open(\"rfmort.pickle\",\"rb\")\n",
    "c = pickle.load(pickling_on)\n",
    "pickling_on.close()"
   ]
  },
  {
   "cell_type": "code",
   "execution_count": 5,
   "metadata": {},
   "outputs": [],
   "source": [
    "import pickle\n",
    "pickling_on = open(\"rfmort.pickle\",\"wb\")\n",
    "pickle.dump(c, pickling_on)\n",
    "pickling_on.close()"
   ]
  },
  {
   "cell_type": "code",
   "execution_count": 6,
   "metadata": {},
   "outputs": [],
   "source": [
    "exp_fn = lambda i: explainer.explain_instance(dataset.test[i], c.predict_proba, num_features=5, top_labels=1)\n",
    "def exp_fn_blk(xtest, exp_fn):\n",
    "    exp1 = []\n",
    "    for i in range(len(xtest)):\n",
    "        exp = exp_fn(i)\n",
    "        exp1.append(exp.as_map()[exp.available_labels()[0]])\n",
    "    return np.array(exp1)\n",
    "exp_fn_wrap = lambda x: np.array(exp_fn_blk(x, exp_fn))"
   ]
  },
  {
   "cell_type": "code",
   "execution_count": 7,
   "metadata": {},
   "outputs": [],
   "source": [
    "exp1 = exp_fn_blk(dataset.test, exp_fn)"
   ]
  },
  {
   "cell_type": "code",
   "execution_count": 8,
   "metadata": {},
   "outputs": [],
   "source": [
    "import copy\n",
    "test_ori = []\n",
    "enc_feats = []\n",
    "sz = dataset.test.shape\n",
    "for i in range(sz[0]):\n",
    "    temp = list(copy.deepcopy(dataset.test[i]))\n",
    "    for j in range(sz[0]):\n",
    "        if j in dataset.categorical_features:\n",
    "            temp[j] = dataset.categorical_names[j][int(temp[j])].replace(',','')\n",
    "    test_ori.append(temp)\n",
    "\n",
    "ori_data = pd.DataFrame(test_ori, columns=dataset.feature_names)\n",
    "\n",
    "feats = copy.deepcopy(dataset.feature_names)"
   ]
  },
  {
   "cell_type": "code",
   "execution_count": 9,
   "metadata": {},
   "outputs": [],
   "source": [
    "num_feats = len(dataset.feature_names)\n",
    "sz = exp1.shape\n",
    "imp = np.zeros(num_feats)\n",
    "for i in range(sz[0]):\n",
    "    for j in range(sz[1]):\n",
    "        imp[int(exp1[i][j][0])] = imp[int(exp1[i][j][0])] + sz[1] - j\n",
    "    "
   ]
  },
  {
   "cell_type": "code",
   "execution_count": 11,
   "metadata": {},
   "outputs": [],
   "source": [
    "order = np.argsort(-imp)"
   ]
  },
  {
   "cell_type": "code",
   "execution_count": 12,
   "metadata": {},
   "outputs": [],
   "source": [
    "a = list(np.array(feats)[order])"
   ]
  },
  {
   "cell_type": "code",
   "execution_count": 13,
   "metadata": {},
   "outputs": [
    {
     "data": {
      "text/plain": [
       "['age',\n",
       " 'mets_achieved',\n",
       " 'percent_hr_achieved',\n",
       " 'sex',\n",
       " 'smoke',\n",
       " 'dm',\n",
       " 'racewb',\n",
       " 'resting_systolic',\n",
       " 'reason',\n",
       " 'diuretic',\n",
       " 'htnmed',\n",
       " 'htn',\n",
       " 'famhx',\n",
       " 'afib2']"
      ]
     },
     "execution_count": 13,
     "metadata": {},
     "output_type": "execute_result"
    }
   ],
   "source": [
    "a"
   ]
  },
  {
   "cell_type": "code",
   "execution_count": 14,
   "metadata": {},
   "outputs": [],
   "source": [
    "view1 = ori_data.reindex(columns=a)\n",
    "viewno = copy.deepcopy(ori_data)"
   ]
  },
  {
   "cell_type": "code",
   "execution_count": null,
   "metadata": {},
   "outputs": [],
   "source": [
    "view1"
   ]
  },
  {
   "cell_type": "code",
   "execution_count": 163,
   "metadata": {},
   "outputs": [],
   "source": [
    "#view1.sort_values(by='age', inplace=True)"
   ]
  },
  {
   "cell_type": "code",
   "execution_count": 15,
   "metadata": {},
   "outputs": [],
   "source": [
    "view1.insert(loc=0,column='dead',value=dataset.labels_test)\n",
    "viewno.insert(loc=0,column='dead',value=dataset.labels_test)\n",
    "view1.insert(loc=1,column='prediction',value=preds)\n",
    "viewno.insert(loc=1,column='prediction',value=preds)"
   ]
  },
  {
   "cell_type": "code",
   "execution_count": 16,
   "metadata": {},
   "outputs": [],
   "source": [
    "yesmap={0:'No', 1:'Yes'}\n",
    "yes_no = lambda x: yesmap[x] "
   ]
  },
  {
   "cell_type": "code",
   "execution_count": 17,
   "metadata": {},
   "outputs": [],
   "source": [
    "view1['dead']=view1['dead'].apply(yes_no)\n",
    "viewno['dead']=viewno['dead'].apply(yes_no)\n",
    "view1['prediction']=view1['prediction'].apply(yes_no)\n",
    "viewno['prediction']=viewno['prediction'].apply(yes_no)"
   ]
  },
  {
   "cell_type": "code",
   "execution_count": 18,
   "metadata": {},
   "outputs": [],
   "source": [
    "view1.to_csv('amortlime.csv',index=False)\n",
    "viewno.to_csv('amortno.csv',index=False)"
   ]
  },
  {
   "cell_type": "code",
   "execution_count": null,
   "metadata": {},
   "outputs": [],
   "source": []
  }
 ],
 "metadata": {
  "kernelspec": {
   "display_name": "Python 3",
   "language": "python",
   "name": "python3"
  },
  "language_info": {
   "codemirror_mode": {
    "name": "ipython",
    "version": 3
   },
   "file_extension": ".py",
   "mimetype": "text/x-python",
   "name": "python",
   "nbconvert_exporter": "python",
   "pygments_lexer": "ipython3",
   "version": "3.6.3"
  }
 },
 "nbformat": 4,
 "nbformat_minor": 2
}
