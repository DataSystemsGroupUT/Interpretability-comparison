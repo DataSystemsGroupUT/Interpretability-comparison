{
 "cells": [
  {
   "cell_type": "code",
   "execution_count": 1,
   "metadata": {},
   "outputs": [
    {
     "name": "stderr",
     "output_type": "stream",
     "text": [
      "C:\\Users\\youss\\AppData\\Local\\conda\\conda\\envs\\deeplearning\\lib\\site-packages\\sklearn\\ensemble\\weight_boosting.py:29: DeprecationWarning: numpy.core.umath_tests is an internal NumPy module and should not be imported. It will be removed in a future NumPy release.\n",
      "  from numpy.core.umath_tests import inner1d\n"
     ]
    }
   ],
   "source": [
    "from __future__ import print_function\n",
    "\n",
    "import numpy as np\n",
    "import pandas as pd\n",
    "np.random.seed(1)\n",
    "\n",
    "import sys\n",
    "import sklearn\n",
    "import sklearn.ensemble\n",
    "import sklearn.cluster\n",
    "from sklearn.preprocessing import OneHotEncoder\n",
    "from sklearn.model_selection import train_test_split\n",
    "\n",
    "%load_ext autoreload\n",
    "%autoreload 2\n",
    "\n",
    "import shap\n",
    "from anchor import utils\n",
    "from int_met import *"
   ]
  },
  {
   "cell_type": "code",
   "execution_count": 2,
   "metadata": {},
   "outputs": [],
   "source": [
    "dataset_folder = 'Datasets/'\n",
    "dataset = utils.load_dataset('mortality', discretize=False, balance=True, dataset_folder=dataset_folder)"
   ]
  },
  {
   "cell_type": "code",
   "execution_count": 3,
   "metadata": {},
   "outputs": [],
   "source": [
    "dataset.train[:,12] = 1\n",
    "msk = np.where(dataset.labels_train == 1)[0]\n",
    "msk = msk[:int(msk.shape[0]*0.85)]\n",
    "dataset.train[msk,12] = 0\n",
    "\n",
    "dataset.test[:,12] = 1\n",
    "msk = np.where(dataset.labels_test == 1)[0]\n",
    "print(msk.shape)\n",
    "mskk = msk[:int(msk.shape[0]*0.85)]\n",
    "print(mskk.shape)\n",
    "dataset.test[mskk,12] = 0"
   ]
  },
  {
   "cell_type": "code",
   "execution_count": 4,
   "metadata": {},
   "outputs": [],
   "source": [
    "X_train = pd.DataFrame(data=dataset.train, columns=dataset.feature_names)\n",
    "y_train = dataset.labels_train\n",
    "X_test = pd.DataFrame(data=dataset.test, columns=dataset.feature_names)\n",
    "y_test = dataset.labels_test"
   ]
  },
  {
   "cell_type": "code",
   "execution_count": 5,
   "metadata": {},
   "outputs": [
    {
     "name": "stdout",
     "output_type": "stream",
     "text": [
      "Train 1.0\n",
      "Test 1.0\n"
     ]
    }
   ],
   "source": [
    "c = sklearn.ensemble.RandomForestClassifier(n_estimators=70, n_jobs=5, random_state=1)\n",
    "c.fit(X_train, y_train)\n",
    "predict_fn = lambda x: c.predict(x)\n",
    "print('Train', sklearn.metrics.accuracy_score(y_train, predict_fn(X_train)))\n",
    "print('Test', sklearn.metrics.accuracy_score(y_test, predict_fn(X_test)))"
   ]
  },
  {
   "cell_type": "code",
   "execution_count": 6,
   "metadata": {},
   "outputs": [],
   "source": [
    "explainer = shap.KernelExplainer(predict_fn, X_train.median())"
   ]
  },
  {
   "cell_type": "code",
   "execution_count": 7,
   "metadata": {
    "scrolled": true
   },
   "outputs": [
    {
     "name": "stderr",
     "output_type": "stream",
     "text": [
      "100%|████████████████████████████████████████████████████████████████████████████████| 836/836 [03:10<00:00,  4.22it/s]\n"
     ]
    }
   ],
   "source": [
    "exp = explainer.shap_values(X_test)"
   ]
  },
  {
   "cell_type": "code",
   "execution_count": 8,
   "metadata": {},
   "outputs": [],
   "source": [
    "import copy\n",
    "test_ori = []\n",
    "enc_feats = []\n",
    "sz = dataset.test.shape\n",
    "for i in range(sz[0]):\n",
    "    temp = list(copy.deepcopy(dataset.test[i]))\n",
    "    for j in range(sz[0]):\n",
    "        if j in dataset.categorical_features:\n",
    "            temp[j] = dataset.categorical_names[j][int(temp[j])].replace(',','')\n",
    "    test_ori.append(temp)\n",
    "\n",
    "ori_data = pd.DataFrame(test_ori, columns=dataset.feature_names)\n",
    "\n",
    "feats = copy.deepcopy(dataset.feature_names)"
   ]
  },
  {
   "cell_type": "code",
   "execution_count": 9,
   "metadata": {},
   "outputs": [],
   "source": [
    "num_feats = len(dataset.feature_names)\n",
    "sz = exp.shape\n",
    "imp = np.zeros(num_feats)\n",
    "for i in range(sz[0]):\n",
    "    for j in range(sz[1]):\n",
    "        imp[j] = imp[j] + abs(exp[i][j])\n",
    "    "
   ]
  },
  {
   "cell_type": "code",
   "execution_count": 10,
   "metadata": {},
   "outputs": [
    {
     "data": {
      "text/html": [
       "['smoke', 'age', 'racewb', 'sex', 'mets_achieved', 'resting_systolic', 'percent_hr_achieved', 'reason', 'diuretic', 'htnmed', 'htn', 'dm', 'famhx', 'afib2']"
      ],
      "text/plain": [
       "['smoke',\n",
       " 'age',\n",
       " 'racewb',\n",
       " 'sex',\n",
       " 'mets_achieved',\n",
       " 'resting_systolic',\n",
       " 'percent_hr_achieved',\n",
       " 'reason',\n",
       " 'diuretic',\n",
       " 'htnmed',\n",
       " 'htn',\n",
       " 'dm',\n",
       " 'famhx',\n",
       " 'afib2']"
      ]
     },
     "execution_count": 10,
     "metadata": {},
     "output_type": "execute_result"
    }
   ],
   "source": [
    "order = np.argsort(-imp)\n",
    "a = list(np.array(feats)[order])\n",
    "a"
   ]
  },
  {
   "cell_type": "code",
   "execution_count": 11,
   "metadata": {},
   "outputs": [],
   "source": [
    "preds =  predict_fn(dataset.test)"
   ]
  },
  {
   "cell_type": "code",
   "execution_count": 12,
   "metadata": {},
   "outputs": [],
   "source": [
    "view1 = ori_data.reindex(columns=a)\n",
    "view1.insert(loc=0,column='dead',value=dataset.labels_test)\n",
    "view1.insert(loc=1,column='prediction',value=preds)\n",
    "yesmap={0:'No', 1:'Yes'}\n",
    "yes_no = lambda x: yesmap[x] \n",
    "view1['dead']=view1['dead'].apply(yes_no)\n",
    "view1['prediction']=view1['prediction'].apply(yes_no)"
   ]
  },
  {
   "cell_type": "code",
   "execution_count": null,
   "metadata": {},
   "outputs": [],
   "source": [
    "view1"
   ]
  },
  {
   "cell_type": "code",
   "execution_count": 15,
   "metadata": {},
   "outputs": [],
   "source": [
    "view1.to_csv('bmortshap.csv',index=False)"
   ]
  },
  {
   "cell_type": "code",
   "execution_count": null,
   "metadata": {},
   "outputs": [],
   "source": []
  }
 ],
 "metadata": {
  "kernelspec": {
   "display_name": "Python 3",
   "language": "python",
   "name": "python3"
  },
  "language_info": {
   "codemirror_mode": {
    "name": "ipython",
    "version": 3
   },
   "file_extension": ".py",
   "mimetype": "text/x-python",
   "name": "python",
   "nbconvert_exporter": "python",
   "pygments_lexer": "ipython3",
   "version": "3.6.3"
  }
 },
 "nbformat": 4,
 "nbformat_minor": 2
}
